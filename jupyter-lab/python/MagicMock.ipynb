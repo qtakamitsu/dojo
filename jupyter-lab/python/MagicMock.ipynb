{
 "cells": [
  {
   "cell_type": "markdown",
   "metadata": {},
   "source": [
    "# MagicMock\n"
   ]
  },
  {
   "cell_type": "code",
   "execution_count": 2,
   "metadata": {},
   "outputs": [
    {
     "data": {
      "text/plain": [
       "'hello'"
      ]
     },
     "execution_count": 2,
     "metadata": {},
     "output_type": "execute_result"
    }
   ],
   "source": [
    "import unittest\n",
    "\n",
    "from unittest.mock import patch, MagicMock\n",
    "\n",
    "m = MagicMock()\n",
    "m.say.return_value = 'hello'\n",
    "m.say()"
   ]
  },
  {
   "cell_type": "code",
   "execution_count": 3,
   "metadata": {},
   "outputs": [
    {
     "data": {
      "text/plain": [
       "'good'"
      ]
     },
     "execution_count": 3,
     "metadata": {},
     "output_type": "execute_result"
    }
   ],
   "source": [
    "import unittest\n",
    "\n",
    "from unittest.mock import patch, MagicMock\n",
    "\n",
    "m.say = MagicMock(return_value='good')\n",
    "m.say()"
   ]
  },
  {
   "cell_type": "code",
   "execution_count": 11,
   "metadata": {},
   "outputs": [
    {
     "name": "stdout",
     "output_type": "stream",
     "text": [
      "Bar#name = Foo class method\n"
     ]
    }
   ],
   "source": [
    "class Foo:\n",
    "  @classmethod\n",
    "  def name(self):\n",
    "    return \"Foo class method\"\n",
    "\n",
    "class Bar:\n",
    "  def name(self):\n",
    "    f = Foo()\n",
    "    return f.name()\n",
    "\n",
    "b = Bar()\n",
    "print(\"Bar#name = \" + b.name())"
   ]
  },
  {
   "cell_type": "code",
   "execution_count": 10,
   "metadata": {},
   "outputs": [
    {
     "name": "stdout",
     "output_type": "stream",
     "text": [
      "Bar#name = mock value\n"
     ]
    }
   ],
   "source": [
    "class Foo:\n",
    "  @classmethod\n",
    "  def name(self):\n",
    "    return \"Foo class method\"\n",
    "\n",
    "class Bar:\n",
    "  def name(self):\n",
    "    f = Foo()\n",
    "    return f.name()\n",
    "\n",
    "with patch('__main__.Foo') as MockFoo:\n",
    "    instance = MockFoo.return_value\n",
    "    instance.name.return_value = 'mock value'\n",
    "    b = Bar()\n",
    "    print(\"Bar#name = \" + b.name())"
   ]
  },
  {
   "cell_type": "code",
   "execution_count": 26,
   "metadata": {},
   "outputs": [
    {
     "name": "stdout",
     "output_type": "stream",
     "text": [
      "999\n"
     ]
    }
   ],
   "source": [
    "from unittest.mock import patch, MagicMock\n",
    "\n",
    "import requests\n",
    "import json\n",
    "\n",
    "class ApiClient:\n",
    "    def __init__(self, url, api_key):\n",
    "        self.__url = url\n",
    "        self.__api_key = api_key\n",
    "\n",
    "    @property\n",
    "    def url(self):\n",
    "        return self.__url\n",
    "\n",
    "    @property\n",
    "    def api_key(self):\n",
    "        return self.__api_key\n",
    "\n",
    "    def get_space(self):\n",
    "        payload = { 'apiKey': self.__api_key }\n",
    "        api_space_url = self.__url + '/api/v2/space'\n",
    "        r = requests.get(api_space_url, params = payload)\n",
    "        return r.json()\n",
    "\n",
    "with patch('__main__.requests') as mock:\n",
    "  class MockResponse:\n",
    "    def __init__(self):\n",
    "      self.status = 999\n",
    "  mock.get().json.return_value = MockResponse()\n",
    "  client = ApiClient('', '')\n",
    "  r = client.get_space()\n",
    "  print(r.status)"
   ]
  },
  {
   "cell_type": "code",
   "execution_count": null,
   "metadata": {},
   "outputs": [],
   "source": []
  }
 ],
 "metadata": {
  "kernelspec": {
   "display_name": "Python 3",
   "language": "python",
   "name": "python3"
  },
  "language_info": {
   "codemirror_mode": {
    "name": "ipython",
    "version": 3
   },
   "file_extension": ".py",
   "mimetype": "text/x-python",
   "name": "python",
   "nbconvert_exporter": "python",
   "pygments_lexer": "ipython3",
   "version": "3.7.5"
  }
 },
 "nbformat": 4,
 "nbformat_minor": 4
}
