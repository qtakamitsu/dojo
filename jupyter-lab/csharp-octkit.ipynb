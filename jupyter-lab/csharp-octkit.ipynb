{
 "cells": [
  {
   "cell_type": "markdown",
   "metadata": {},
   "source": [
    "# Octokit"
   ]
  },
  {
   "cell_type": "code",
   "execution_count": 3,
   "metadata": {},
   "outputs": [
    {
     "data": {
      "text/html": [
       "Installing package Octokit, version 0.36.0...done!"
      ]
     },
     "metadata": {},
     "output_type": "display_data"
    },
    {
     "data": {
      "text/html": [
       "Successfully added reference to package Octokit, version 0.36.0"
      ]
     },
     "metadata": {},
     "output_type": "display_data"
    },
    {
     "data": {
      "text/html": [
       "Installing package DotNetEnv, version 1.4.0...........done!"
      ]
     },
     "metadata": {},
     "output_type": "display_data"
    },
    {
     "data": {
      "text/html": [
       "Successfully added reference to package DotNetEnv, version 1.4.0"
      ]
     },
     "metadata": {},
     "output_type": "display_data"
    }
   ],
   "source": [
    "#r \"nuget:Octokit, 0.36.0\"\n",
    "#r \"nuget:DotNetEnv, 1.4.0\"\n",
    "using Octokit;\n",
    "using DotNetEnv;"
   ]
  },
  {
   "cell_type": "code",
   "execution_count": 46,
   "metadata": {},
   "outputs": [],
   "source": [
    "DotNetEnv.Env.Load();\n",
    "var githubAccessToken = DotNetEnv.Env.GetString(\"GITHUB_ACCESS_TOKEN\");\n",
    "//Console.WriteLine(\"{0}\", githubAccessToken);\n",
    "\n",
    "var productName = \"tk3-sample-client\";\n",
    "var tokenAuth = new Credentials(githubAccessToken);\n",
    "var client = new GitHubClient(new ProductHeaderValue(productName)){ Credentials = tokenAuth };"
   ]
  },
  {
   "cell_type": "code",
   "execution_count": 47,
   "metadata": {},
   "outputs": [
    {
     "data": {
      "text/html": [
       "<table><thead><tr><th>Permissions</th><th>SiteAdmin</th><th>SuspendedAt</th><th>Suspended</th><th>LdapDistinguishedName</th><th>UpdatedAt</th><th>AvatarUrl</th><th>Bio</th><th>Blog</th><th>Collaborators</th><th>Company</th><th>CreatedAt</th><th>DiskUsage</th><th>Email</th><th>Followers</th><th>Following</th><th>Hireable</th><th>HtmlUrl</th><th>Id</th><th>NodeId</th><th>Location</th><th>Login</th><th>Name</th><th>Type</th><th>OwnedPrivateRepos</th><th>Plan</th><th>PrivateGists</th><th>PublicGists</th><th>PublicRepos</th><th>TotalPrivateRepos</th><th>Url</th></tr></thead><tbody><tr><td>&lt;null&gt;</td><td>False</td><td>&lt;null&gt;</td><td>False</td><td>&lt;null&gt;</td><td>2020-01-06 11:47:25Z</td><td>https://avatars0.githubusercontent.com/u/169007?v=4</td><td>Web developer</td><td>https://tk3.dev/</td><td>0</td><td>&lt;null&gt;</td><td>2009-12-17 16:33:26Z</td><td>9493</td><td>&lt;null&gt;</td><td>10</td><td>2</td><td>True</td><td>https://github.com/tk3</td><td>169007</td><td>MDQ6VXNlcjE2OTAwNw==</td><td>Japan</td><td>tk3</td><td>qtakamitsu</td><td>{ Octokit.AccountType: value__: 0 }</td><td>5</td><td>{ Octokit.Plan: Collaborators: 0, Name: pro, PrivateRepos: 9999, Space: 976562499, BillingEmail: &lt;null&gt; }</td><td>18</td><td>25</td><td>20</td><td>5</td><td>https://api.github.com/users/tk3</td></tr></tbody></table>"
      ]
     },
     "execution_count": 47,
     "metadata": {},
     "output_type": "execute_result"
    }
   ],
   "source": [
    "User user = await client.User.Get(\"tk3\");\n",
    "user"
   ]
  },
  {
   "cell_type": "code",
   "execution_count": 66,
   "metadata": {},
   "outputs": [
    {
     "data": {
      "text/plain": [
       "283"
      ]
     },
     "execution_count": 66,
     "metadata": {},
     "output_type": "execute_result"
    }
   ],
   "source": [
    "var options = new ApiOptions\n",
    "{\n",
    "    PageSize = 1,\n",
    "    PageCount = 1,\n",
    "    StartPage = 1\n",
    "};\n",
    "\n",
    "IReadOnlyList<Activity> v = await client.Activity.Events.GetAll();\n",
    "v.Count"
   ]
  },
  {
   "cell_type": "markdown",
   "metadata": {},
   "source": [
    "memo\n",
    "\n",
    "https://github.com/octokit/octokit.net/blob/master/Octokit/Clients/ActivitiesClient.cs\n",
    "\n",
    "[Activity](https://www.codeproject.com/Articles/1277348/Using-Csharp-Code-to-Access-the-GitHub-API)\n"
   ]
  }
 ],
 "metadata": {
  "kernelspec": {
   "display_name": ".NET (C#)",
   "language": "C#",
   "name": ".net-csharp"
  },
  "language_info": {
   "file_extension": ".cs",
   "mimetype": "text/x-csharp",
   "name": "C#",
   "pygments_lexer": "csharp",
   "version": "8.0"
  }
 },
 "nbformat": 4,
 "nbformat_minor": 4
}
