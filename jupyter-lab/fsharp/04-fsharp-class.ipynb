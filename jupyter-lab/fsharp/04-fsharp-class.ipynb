{
 "cells": [
  {
   "cell_type": "markdown",
   "metadata": {},
   "source": [
    "# クラス"
   ]
  },
  {
   "cell_type": "markdown",
   "metadata": {},
   "source": [
    "## クラスの定義"
   ]
  },
  {
   "cell_type": "code",
   "execution_count": 1,
   "metadata": {},
   "outputs": [
    {
     "name": "stdout",
     "output_type": "stream",
     "text": [
      "\"MyClass1\"\n"
     ]
    }
   ],
   "source": [
    "type MyClass1() = do ()\n",
    "\n",
    "let myClass1 = new MyClass1()\n",
    "printfn \"%A\" (myClass1.GetType().Name)    // => \"MyClass1\"\n",
    "    \n",
    "type Hoge = class end"
   ]
  },
  {
   "cell_type": "code",
   "execution_count": 1,
   "metadata": {},
   "outputs": [
    {
     "name": "stdout",
     "output_type": "stream",
     "text": [
      "myClass2.Name = foo\n"
     ]
    },
    {
     "data": {
      "text/html": [
       "<null>"
      ]
     },
     "execution_count": 1,
     "metadata": {},
     "output_type": "execute_result"
    }
   ],
   "source": [
    "type MyClass2(name: string) =\n",
    "    member _.Name = name\n",
    "\n",
    "let myClass2 = new MyClass2(\"foo\")\n",
    "printfn \"myClass2.Name = %s\" myClass2.Name    // => myClass2.Name = foo"
   ]
  },
  {
   "cell_type": "markdown",
   "metadata": {},
   "source": [
    "## 静的メンバー"
   ]
  },
  {
   "cell_type": "code",
   "execution_count": 5,
   "metadata": {},
   "outputs": [
    {
     "name": "stdout",
     "output_type": "stream",
     "text": [
      "MyClass3.Value = Silver\n"
     ]
    },
    {
     "data": {
      "text/html": [
       "<null>"
      ]
     },
     "execution_count": 5,
     "metadata": {},
     "output_type": "execute_result"
    }
   ],
   "source": [
    "type MyClass3() =\n",
    "    static member Value = \"Silver\"\n",
    "\n",
    "printfn \"MyClass3.Value = %s\" MyClass3.Value    // => MyClass3.Value = Silver"
   ]
  },
  {
   "cell_type": "markdown",
   "metadata": {},
   "source": [
    "## メソッド"
   ]
  },
  {
   "cell_type": "code",
   "execution_count": 6,
   "metadata": {},
   "outputs": [
    {
     "name": "stdout",
     "output_type": "stream",
     "text": [
      "MyClass4 = 30\n"
     ]
    },
    {
     "data": {
      "text/html": [
       "<null>"
      ]
     },
     "execution_count": 6,
     "metadata": {},
     "output_type": "execute_result"
    }
   ],
   "source": [
    "type MyClass4() =\n",
    "    member _.Add(x: int, y: int): int =\n",
    "        x + y\n",
    "\n",
    "let myClass4 = new MyClass4()\n",
    "printfn \"MyClass4 = %d\" (myClass4.Add(10, 20))    // => MyClass4 = 30"
   ]
  },
  {
   "cell_type": "markdown",
   "metadata": {},
   "source": [
    "## プロパティ"
   ]
  },
  {
   "cell_type": "code",
   "execution_count": 13,
   "metadata": {},
   "outputs": [
    {
     "name": "stdout",
     "output_type": "stream",
     "text": [
      "myClass5.Name = foo\n"
     ]
    },
    {
     "data": {
      "text/html": [
       "<null>"
      ]
     },
     "execution_count": 13,
     "metadata": {},
     "output_type": "execute_result"
    }
   ],
   "source": [
    "type MyClass5(name: string) =\n",
    "    member _.Name = name\n",
    "\n",
    "let myClass5 = new MyClass2(\"foo\")\n",
    "printfn \"myClass5.Name = %s\" myClass5.Name    // => myClass5.Name = foo"
   ]
  },
  {
   "cell_type": "markdown",
   "metadata": {},
   "source": [
    "### 変更可能なプロパティ"
   ]
  },
  {
   "cell_type": "code",
   "execution_count": 30,
   "metadata": {},
   "outputs": [
    {
     "name": "stdout",
     "output_type": "stream",
     "text": [
      "myClass6 pages = 12\n",
      "myClass6 pages = 24\n"
     ]
    },
    {
     "data": {
      "text/html": [
       "<null>"
      ]
     },
     "execution_count": 30,
     "metadata": {},
     "output_type": "execute_result"
    }
   ],
   "source": [
    "type MyClass6(pages: int) =\n",
    "    let mutable _pages = pages\n",
    "\n",
    "    member _.Pages\n",
    "        with get() = _pages\n",
    "        and set(value) = _pages <- value\n",
    "\n",
    "let myClass6 = new MyClass6(12)\n",
    "printfn \"myClass6 pages = %d\" myClass6.Pages    // => myClass6 pages = 12\n",
    "\n",
    "myClass6.Pages <- 24\n",
    "printfn \"myClass6 pages = %d\" myClass6.Pages    // => myClass6 pages = 24"
   ]
  },
  {
   "cell_type": "markdown",
   "metadata": {},
   "source": [
    "## インタフェース"
   ]
  },
  {
   "cell_type": "code",
   "execution_count": null,
   "metadata": {},
   "outputs": [],
   "source": []
  },
  {
   "cell_type": "code",
   "execution_count": null,
   "metadata": {},
   "outputs": [],
   "source": []
  },
  {
   "cell_type": "markdown",
   "metadata": {},
   "source": [
    "## 継承"
   ]
  },
  {
   "cell_type": "code",
   "execution_count": null,
   "metadata": {},
   "outputs": [],
   "source": []
  },
  {
   "cell_type": "code",
   "execution_count": null,
   "metadata": {},
   "outputs": [],
   "source": []
  }
 ],
 "metadata": {
  "kernelspec": {
   "display_name": ".NET (F#)",
   "language": "F#",
   "name": ".net-fsharp"
  },
  "language_info": {
   "file_extension": ".fs",
   "mimetype": "text/x-fsharp",
   "name": "C#",
   "pygments_lexer": "fsharp",
   "version": "4.5"
  }
 },
 "nbformat": 4,
 "nbformat_minor": 4
}
