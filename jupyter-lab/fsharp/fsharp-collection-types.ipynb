{
 "cells": [
  {
   "cell_type": "markdown",
   "metadata": {},
   "source": [
    "# F# Collection Types\n",
    "\n",
    "- [Collection Types - F# | Microsoft Docs](https://docs.microsoft.com/en-us/dotnet/fsharp/language-reference/fsharp-collection-types)\n"
   ]
  },
  {
   "cell_type": "markdown",
   "metadata": {},
   "source": [
    "## List\n",
    "\n"
   ]
  },
  {
   "cell_type": "code",
   "execution_count": 1,
   "metadata": {},
   "outputs": [
    {
     "name": "stdout",
     "output_type": "stream",
     "text": [
      "intList = [10; 20; 30]\n",
      "stringList = [\"aaa\"; \"bbb\"; \"ccc\"]\n",
      "charList = ['a'; 'b'; 'c']\n"
     ]
    },
    {
     "data": {
      "text/html": [
       "<null>"
      ]
     },
     "execution_count": 1,
     "metadata": {},
     "output_type": "execute_result"
    }
   ],
   "source": [
    "let intList = [10; 20; 30]\n",
    "printfn \"intList = %A\" intList    // => intList = [10; 20; 30]\n",
    "\n",
    "let stringList = [\"aaa\"; \"bbb\"; \"ccc\"]\n",
    "printfn \"stringList = %A\" stringList    // => stringList = [\"aaa\"; \"bbb\"; \"ccc\"]\n",
    "\n",
    "let charList = ['a'; 'b'; 'c']\n",
    "printfn \"charList = %A\" charList    // => charList = ['a'; 'b'; 'c']"
   ]
  },
  {
   "cell_type": "code",
   "execution_count": 2,
   "metadata": {},
   "outputs": [
    {
     "name": "stdout",
     "output_type": "stream",
     "text": [
      "[]\n"
     ]
    },
    {
     "data": {
      "text/html": [
       "<null>"
      ]
     },
     "execution_count": 2,
     "metadata": {},
     "output_type": "execute_result"
    }
   ],
   "source": [
    "let empty = []\n",
    "printfn \"%A\" empty    // => []"
   ]
  },
  {
   "cell_type": "code",
   "execution_count": 5,
   "metadata": {},
   "outputs": [
    {
     "name": "stdout",
     "output_type": "stream",
     "text": [
      "[]\n"
     ]
    },
    {
     "data": {
      "text/html": [
       "<null>"
      ]
     },
     "execution_count": 5,
     "metadata": {},
     "output_type": "execute_result"
    }
   ],
   "source": [
    "let empty = List.empty\n",
    "printfn \"%A\" empty    // => []"
   ]
  },
  {
   "cell_type": "code",
   "execution_count": 10,
   "metadata": {},
   "outputs": [
    {
     "name": "stdout",
     "output_type": "stream",
     "text": [
      "[10; 20; 30]\n",
      "[40; 10; 20; 30]\n",
      "[10; 20; 30; 100; 200; 300]\n"
     ]
    },
    {
     "data": {
      "text/html": [
       "<null>"
      ]
     },
     "execution_count": 10,
     "metadata": {},
     "output_type": "execute_result"
    }
   ],
   "source": [
    "let list1 = [10; 20; 30]\n",
    "printfn \"%A\" list1    // => [10; 20; 30]\n",
    "\n",
    "let list2 = 40 :: list1\n",
    "printfn \"%A\" list2    // => [40; 10; 20; 30]\n",
    "\n",
    "let list3 = [100; 200; 300]\n",
    "let list4 = list1 @ list3\n",
    "printfn \"%A\" list4    // => [10; 20; 30; 100; 200; 300]"
   ]
  },
  {
   "cell_type": "code",
   "execution_count": 11,
   "metadata": {},
   "outputs": [
    {
     "name": "stdout",
     "output_type": "stream",
     "text": [
      "list.Item(2) is 30\n"
     ]
    },
    {
     "data": {
      "text/html": [
       "<null>"
      ]
     },
     "execution_count": 11,
     "metadata": {},
     "output_type": "execute_result"
    }
   ],
   "source": [
    "let list = [10; 20; 30]\n",
    "printfn \"list.Item(2) is %d\" (list1.Item(2))    // => list.Item(2) is 30"
   ]
  },
  {
   "cell_type": "markdown",
   "metadata": {},
   "source": [
    "## Array\n",
    "\n"
   ]
  },
  {
   "cell_type": "markdown",
   "metadata": {},
   "source": [
    "## seq"
   ]
  },
  {
   "cell_type": "markdown",
   "metadata": {},
   "source": [
    "## Map"
   ]
  },
  {
   "cell_type": "markdown",
   "metadata": {},
   "source": [
    "## Set"
   ]
  },
  {
   "cell_type": "code",
   "execution_count": null,
   "metadata": {},
   "outputs": [],
   "source": []
  }
 ],
 "metadata": {
  "kernelspec": {
   "display_name": ".NET (F#)",
   "language": "F#",
   "name": ".net-fsharp"
  },
  "language_info": {
   "file_extension": ".fs",
   "mimetype": "text/x-fsharp",
   "name": "C#",
   "pygments_lexer": "fsharp",
   "version": "4.5"
  }
 },
 "nbformat": 4,
 "nbformat_minor": 4
}
