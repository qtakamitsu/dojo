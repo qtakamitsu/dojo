{
 "cells": [
  {
   "cell_type": "markdown",
   "metadata": {},
   "source": [
    "## ファイル"
   ]
  },
  {
   "cell_type": "code",
   "execution_count": 37,
   "metadata": {},
   "outputs": [
    {
     "name": "stdout",
     "output_type": "stream",
     "text": [
      "file = seq\n",
      "  [\"/home/tk3/.bash_history\"; \"/home/tk3/.bash_logout\"; \"/home/tk3/.bashrc\";\n",
      "   \"/home/tk3/.clasprc.json\"; ...]\n",
      "file = /home/tk3/.bash_history\n",
      "dirName = tk3\n",
      "fileName = .bash_history\n"
     ]
    },
    {
     "data": {
      "text/html": [
       "<null>"
      ]
     },
     "execution_count": 37,
     "metadata": {},
     "output_type": "execute_result"
    }
   ],
   "source": [
    "// ファイルの一覧を取得する\n",
    "let files = System.IO.Directory.EnumerateFiles(\"/home/tk3\", \"*\", System.IO.SearchOption.TopDirectoryOnly)\n",
    "printfn \"file = %A\" files\n",
    "\n",
    "let file = Seq.head files\n",
    "printfn \"file = %s\" file\n",
    "\n",
    "// パスから親ディレクトリ名を取得する\n",
    "let dirName = System.IO.Directory.GetParent(file).Name\n",
    "printfn \"dirName = %s\" dirName\n",
    "\n",
    "// パスからファイル名を取得する\n",
    "let fileName = System.IO.Path.GetFileName(file)\n",
    "printfn \"fileName = %s\" fileName"
   ]
  },
  {
   "cell_type": "markdown",
   "metadata": {},
   "source": [
    "## プロセスを起動する"
   ]
  },
  {
   "cell_type": "code",
   "execution_count": 42,
   "metadata": {},
   "outputs": [
    {
     "name": "stdout",
     "output_type": "stream",
     "text": [
      "output: total 32\n",
      "-rw-rw-rw- 1 tk3 tk3 2780 Jan  2 20:12 01-fsharp-reference.ipynb\n",
      "-rw-rw-rw- 1 tk3 tk3 8828 Jan  2 20:12 02-fsharp-enum.ipynb\n",
      "-rw-rw-rw- 1 tk3 tk3 3154 Jan  2 20:12 03-fsharp-option.ipynb\n",
      "-rw-rw-rw- 1 tk3 tk3 1717 Jan  2 20:12 04-fsharp-class.ipynb\n",
      "-rw-rw-rw- 1 tk3 tk3 4118 Jan  2 22:38 Untitled.ipynb\n",
      "\n"
     ]
    },
    {
     "data": {
      "text/html": [
       "<null>"
      ]
     },
     "execution_count": 42,
     "metadata": {},
     "output_type": "execute_result"
    }
   ],
   "source": [
    "open System.Diagnostics\n",
    "\n",
    "let procInfo = new ProcessStartInfo()\n",
    "procInfo.FileName <- \"ls\"\n",
    "procInfo.Arguments <- \"-l\"\n",
    "procInfo.RedirectStandardOutput <- true\n",
    "\n",
    "using(Process.Start(procInfo)) ( fun proc ->\n",
    "    let output = proc.StandardOutput.ReadToEnd()\n",
    "    printfn \"output: %s\" output\n",
    ")\n"
   ]
  },
  {
   "cell_type": "code",
   "execution_count": 40,
   "metadata": {},
   "outputs": [
    {
     "name": "stdout",
     "output_type": "stream",
     "text": [
      "output: total 32\n",
      "-rw-rw-rw- 1 tk3 tk3 2780 Jan  2 20:12 01-fsharp-reference.ipynb\n",
      "-rw-rw-rw- 1 tk3 tk3 8828 Jan  2 20:12 02-fsharp-enum.ipynb\n",
      "-rw-rw-rw- 1 tk3 tk3 3154 Jan  2 20:12 03-fsharp-option.ipynb\n",
      "-rw-rw-rw- 1 tk3 tk3 1717 Jan  2 20:12 04-fsharp-class.ipynb\n",
      "-rw-rw-rw- 1 tk3 tk3 4118 Jan  2 22:38 Untitled.ipynb\n",
      "\n",
      "exitCode = 0\n"
     ]
    },
    {
     "data": {
      "text/html": [
       "<null>"
      ]
     },
     "execution_count": 40,
     "metadata": {},
     "output_type": "execute_result"
    }
   ],
   "source": [
    "open System.Diagnostics\n",
    "\n",
    "let procInfo = new ProcessStartInfo()\n",
    "procInfo.FileName <- \"ls\"\n",
    "procInfo.Arguments <- \"-l\"\n",
    "procInfo.RedirectStandardOutput <- true\n",
    "\n",
    "let proc = Process.Start(procInfo)\n",
    "proc.WaitForExit() \n",
    "\n",
    "let output = proc.StandardOutput.ReadToEnd()\n",
    "printfn \"output: %s\" output\n",
    "\n",
    "printfn \"exitCode = %d\" proc.ExitCode\n"
   ]
  },
  {
   "cell_type": "markdown",
   "metadata": {},
   "source": [
    "## システムの情報\n",
    "\n",
    "- [RuntimeInformation Class (System.Runtime.InteropServices) | Microsoft Docs](https://docs.microsoft.com/en-us/dotnet/api/system.runtime.interopservices.runtimeinformation?view=netcore-3.0)\n",
    "- [OSPlatform Struct (System.Runtime.InteropServices) | Microsoft Docs](https://docs.microsoft.com/en-us/dotnet/api/system.runtime.interopservices.osplatform?view=netcore-3.0)\n",
    "\n",
    "\n",
    "-[Architecture Enum (System.Runtime.InteropServices) | Microsoft Docs](https://docs.microsoft.com/en-us/dotnet/api/system.runtime.interopservices.architecture?view=netcore-3.0)\n"
   ]
  },
  {
   "cell_type": "code",
   "execution_count": 54,
   "metadata": {},
   "outputs": [
    {
     "name": "stdout",
     "output_type": "stream",
     "text": [
      ".NET Core 3.0.0\n",
      "X64\n",
      "Linux 4.4.0-17763-Microsoft #864-Microsoft Thu Nov 07 15:22:00 PST 2019\n",
      "X64\n",
      "true\n"
     ]
    },
    {
     "data": {
      "text/html": [
       "<null>"
      ]
     },
     "execution_count": 54,
     "metadata": {},
     "output_type": "execute_result"
    }
   ],
   "source": [
    "open System.Runtime.InteropServices\n",
    "\n",
    "printfn \"%s\" RuntimeInformation.FrameworkDescription\n",
    "printfn \"%A\" RuntimeInformation.OSArchitecture\n",
    "printfn \"%s\" RuntimeInformation.OSDescription\n",
    "printfn \"%A\" RuntimeInformation.ProcessArchitecture\n",
    "\n",
    "printfn \"%b\" (RuntimeInformation.IsOSPlatform(OSPlatform.Linux))"
   ]
  },
  {
   "cell_type": "markdown",
   "metadata": {},
   "source": [
    "## 環境変数"
   ]
  },
  {
   "cell_type": "code",
   "execution_count": 56,
   "metadata": {},
   "outputs": [
    {
     "name": "stdout",
     "output_type": "stream",
     "text": [
      "Home = /home/tk3\n"
     ]
    },
    {
     "data": {
      "text/html": [
       "<null>"
      ]
     },
     "execution_count": 56,
     "metadata": {},
     "output_type": "execute_result"
    }
   ],
   "source": [
    "let home = Environment.GetEnvironmentVariable(\"HOME\")\n",
    "printfn \"Home = %s\" home"
   ]
  },
  {
   "cell_type": "code",
   "execution_count": 7,
   "metadata": {},
   "outputs": [
    {
     "name": "stdout",
     "output_type": "stream",
     "text": [
      "[SHLVL, 1]\n",
      "[USER, tk3]\n",
      "[PYENV_DIR, /home/tk3/devel/g/dojo/jupyter-lab]\n",
      "[NAME, tk3]\n",
      "[_fzf_orig_completion_rmdir, complete -F %s rmdir #_longopt]\n",
      "[_fzf_orig_completion_du, complete -F %s du #_longopt]\n",
      "[HOSTTYPE, x86_64]\n",
      "[PYENV_HOOK_PATH, /home/tk3/.anyenv/envs/pyenv/pyenv.d:/usr/local/etc/pyenv.d:/etc/pyenv.d:/usr/lib/pyenv/hooks]\n",
      "[_fzf_orig_completion_ld, complete -F %s ld #_longopt]\n",
      "[SDKMAN_VERSION, 5.7.4+362]\n",
      "[_fzf_orig_completion_rm, complete -F %s rm #_longopt]\n",
      "[LESSCLOSE, /usr/bin/lesspipe %s %s]\n",
      "[OLDPWD, /home/tk3/devel/g/dojo]\n",
      "[XDG_DATA_DIRS, /usr/local/share:/usr/share:/var/lib/snapd/desktop]\n",
      "[_fzf_orig_completion_vi, complete -F %s vi #_filedir_xspec]\n",
      "[LANG, C.UTF-8]\n",
      "[_fzf_orig_completion_uniq, complete -F %s uniq #_longopt]\n",
      "[_fzf_orig_completion_ls, complete -F %s ls #_longopt]\n",
      "[_fzf_orig_completion_tee, complete -F %s tee #_longopt]\n",
      "[SDKMAN_CANDIDATES_DIR, /home/tk3/.sdkman/candidates]\n",
      "[SDKMAN_CANDIDATES_API, https://api.sdkman.io/2]\n",
      "[_fzf_orig_completion_awk, complete -F %s awk #_longopt]\n",
      "[_fzf_orig_completion_tail, complete -F %s tail #_longopt]\n",
      "[WSLENV, ]\n",
      "[PYENV_ROOT, /home/tk3/.anyenv/envs/pyenv]\n",
      "[PATH, /home/tk3/.anyenv/envs/pyenv/versions/3.7.5/bin:/home/tk3/.anyenv/envs/pyenv/libexec:/home/tk3/.anyenv/envs/pyenv/plugins/python-build/bin:/home/tk3/.sdkman/candidates/scala/current/bin:/home/tk3/.sdkman/candidates/java/current/bin:/mnt/c/Program Files (x86)/Microsoft Visual Studio/2019/Community/Common7/IDE/CommonExtensions/Microsoft/FSharp:/home/tk3/.anyenv/envs/rbenv/shims:/home/tk3/.anyenv/envs/rbenv/bin:/home/tk3/.anyenv/envs/pyenv/shims:/home/tk3/.anyenv/envs/pyenv/bin:/home/tk3/.anyenv/envs/nodenv/shims:/home/tk3/.anyenv/envs/nodenv/bin:/home/tk3/.anyenv/bin:/usr/local/sbin:/usr/local/bin:/usr/sbin:/usr/bin:/sbin:/bin:/usr/games:/usr/local/games:/mnt/c/Program Files/WindowsApps/CanonicalGroupLimited.Ubuntu18.04onWindows_1804.2019.522.0_x64__79rhkp1fndgsc:/mnt/c/Program Files (x86)/Intel/iCLS Client:/mnt/c/Program Files/Intel/iCLS Client:/mnt/c/Windows/System32:/mnt/c/Windows:/mnt/c/Windows/System32/wbem:/mnt/c/Windows/System32/WindowsPowerShell/v1.0:/mnt/c/Program Files (x86)/Intel/Intel(R) Management Engine Components/DAL:/mnt/c/Program Files/Intel/Intel(R) Management Engine Components/DAL:/mnt/c/Program Files (x86)/Intel/Intel(R) Management Engine Components/IPT:/mnt/c/Program Files/Intel/Intel(R) Management Engine Components/IPT:/mnt/c/Program Files/Git/cmd:/mnt/c/Program Files (x86)/JustSystems/JSLIB32:/mnt/c/Program Files (x86)/Windows Kits/8.1/Windows Performance Toolkit:/mnt/c/Windows/System32/OpenSSH:/mnt/c/Program Files/Microsoft VS Code/bin:/mnt/c/Program Files/dotnet:/mnt/c/Program Files/Microsoft SQL Server/130/Tools/Binn:/mnt/c/Program Files/Microsoft SQL Server/Client SDK/ODBC/170/Tools/Binn:/mnt/c/Program Files/Intel/WiFi/bin:/mnt/c/Program Files/Common Files/Intel/WirelessCommon:/mnt/c/Program Files/LINQPad6:/mnt/c/HashiCorp/Vagrant/bin:/mnt/c/Users/tk3/.cargo/bin:/mnt/c/Users/tk3/AppData/Local/Microsoft/WindowsApps:/mnt/c/Users/tk3/opt/bin:/mnt/c/Users/tk3/AppData/Local/inkdrop/bin:/mnt/c/Users/tk3/AppData/Local/Microsoft/WindowsApps:/snap/bin:/home/tk3/.dotnet/tools:/home/tk3/.fzf/bin]\n",
      "[_fzf_orig_completion_head, complete -F %s head #_longopt]\n",
      "[_fzf_orig_completion_pushd, complete -o nospace -F %s pushd #_cd]\n",
      "[JPY_PARENT_PID, 1913]\n",
      "[TERM, xterm-256color]\n",
      "[PYENV_VERSION, 3.7.5]\n",
      "[_fzf_orig_completion_cp, complete -F %s cp #_longopt]\n",
      "[JAVA_HOME, /home/tk3/.sdkman/candidates/java/current]\n",
      "[_fzf_orig_completion_grep, complete -F %s grep #_longopt]\n",
      "[_fzf_orig_completion_mv, complete -F %s mv #_longopt]\n",
      "[RBENV_ROOT, /home/tk3/.anyenv/envs/rbenv]\n",
      "[LOGNAME, tk3]\n",
      "[_fzf_orig_completion_ln, complete -F %s ln #_longopt]\n",
      "[_fzf_orig_completion_less, complete -F %s less #_longopt]\n",
      "[SCALA_HOME, /home/tk3/.sdkman/candidates/scala/current]\n",
      "[DOTNET_TRY_CLI_TELEMETRY_OPTOUT, 1]\n",
      "[_fzf_orig_completion_wc, complete -F %s wc #_longopt]\n",
      "[NODENV_ROOT, /home/tk3/.anyenv/envs/nodenv]\n",
      "[_fzf_orig_completion_diff, complete -F %s diff #_longopt]\n",
      "[_fzf_orig_completion_git, complete -o bashdefault -o default -o nospace -F %s git #__git_wrap__git_main]\n",
      "[_fzf_orig_completion_sed, complete -F %s sed #_longopt]\n",
      "[SHELL, /bin/bash]\n",
      "[_fzf_orig_completion_cd, complete -o nospace -F %s cd #_cd]\n",
      "[SDKMAN_DIR, /home/tk3/.sdkman]\n",
      "[_fzf_orig_completion_telnet, complete -F %s telnet #_known_hosts]\n",
      "[RBENV_SHELL, bash]\n",
      "[NODENV_SHELL, bash]\n",
      "[LS_COLORS, rs=0:di=01;34:ln=01;36:mh=00:pi=40;33:so=01;35:do=01;35:bd=40;33;01:cd=40;33;01:or=40;31;01:mi=00:su=37;41:sg=30;43:ca=30;41:tw=30;42:ow=34;42:st=37;44:ex=01;32:*.tar=01;31:*.tgz=01;31:*.arc=01;31:*.arj=01;31:*.taz=01;31:*.lha=01;31:*.lz4=01;31:*.lzh=01;31:*.lzma=01;31:*.tlz=01;31:*.txz=01;31:*.tzo=01;31:*.t7z=01;31:*.zip=01;31:*.z=01;31:*.Z=01;31:*.dz=01;31:*.gz=01;31:*.lrz=01;31:*.lz=01;31:*.lzo=01;31:*.xz=01;31:*.zst=01;31:*.tzst=01;31:*.bz2=01;31:*.bz=01;31:*.tbz=01;31:*.tbz2=01;31:*.tz=01;31:*.deb=01;31:*.rpm=01;31:*.jar=01;31:*.war=01;31:*.ear=01;31:*.sar=01;31:*.rar=01;31:*.alz=01;31:*.ace=01;31:*.zoo=01;31:*.cpio=01;31:*.7z=01;31:*.rz=01;31:*.cab=01;31:*.wim=01;31:*.swm=01;31:*.dwm=01;31:*.esd=01;31:*.jpg=01;35:*.jpeg=01;35:*.mjpg=01;35:*.mjpeg=01;35:*.gif=01;35:*.bmp=01;35:*.pbm=01;35:*.pgm=01;35:*.ppm=01;35:*.tga=01;35:*.xbm=01;35:*.xpm=01;35:*.tif=01;35:*.tiff=01;35:*.png=01;35:*.svg=01;35:*.svgz=01;35:*.mng=01;35:*.pcx=01;35:*.mov=01;35:*.mpg=01;35:*.mpeg=01;35:*.m2v=01;35:*.mkv=01;35:*.webm=01;35:*.ogm=01;35:*.mp4=01;35:*.m4v=01;35:*.mp4v=01;35:*.vob=01;35:*.qt=01;35:*.nuv=01;35:*.wmv=01;35:*.asf=01;35:*.rm=01;35:*.rmvb=01;35:*.flc=01;35:*.avi=01;35:*.fli=01;35:*.flv=01;35:*.gl=01;35:*.dl=01;35:*.xcf=01;35:*.xwd=01;35:*.yuv=01;35:*.cgm=01;35:*.emf=01;35:*.ogv=01;35:*.ogx=01;35:*.aac=00;36:*.au=00;36:*.flac=00;36:*.m4a=00;36:*.mid=00;36:*.midi=00;36:*.mka=00;36:*.mp3=00;36:*.mpc=00;36:*.ogg=00;36:*.ra=00;36:*.wav=00;36:*.oga=00;36:*.opus=00;36:*.spx=00;36:*.xspf=00;36:]\n",
      "[PYENV_SHELL, bash]\n",
      "[_fzf_orig_completion_cat, complete -F %s cat #_longopt]\n",
      "[_fzf_orig_completion_sort, complete -F %s sort #_longopt]\n",
      "[KERNEL_LAUNCH_TIMEOUT, 40]\n",
      "[SDKMAN_PLATFORM, Linux64]\n",
      "[HOME, /home/tk3]\n",
      "[LESSOPEN, | /usr/bin/lesspipe %s]\n",
      "[PWD, /home/tk3/devel/g/dojo/jupyter-lab]\n",
      "[_fzf_orig_completion_ftp, complete -F %s ftp #_known_hosts]\n"
     ]
    },
    {
     "data": {
      "text/html": [
       "<null>"
      ]
     },
     "execution_count": 7,
     "metadata": {},
     "output_type": "execute_result"
    }
   ],
   "source": [
    "open System.Collections\n",
    "open System.Collections.Generic\n",
    "\n",
    "let envVars = \n",
    "  System.Environment.GetEnvironmentVariables()\n",
    "  |> Seq.cast<System.Collections.DictionaryEntry>\n",
    "  |> Seq.map (fun d -> d.Key :?> string, d.Value :?> string)\n",
    "  |> dict\n",
    "\n",
    "for envVar in envVars do\n",
    "    printfn \"%A\" envVar"
   ]
  },
  {
   "cell_type": "code",
   "execution_count": 8,
   "metadata": {},
   "outputs": [
    {
     "name": "stdout",
     "output_type": "stream",
     "text": [
      "seq\n",
      "  [[HOME, /home/tk3]; [PWD, /home/tk3/devel/g/dojo/jupyter-lab]; [LOGNAME, tk3]]\n"
     ]
    },
    {
     "data": {
      "text/html": [
       "<null>"
      ]
     },
     "execution_count": 8,
     "metadata": {},
     "output_type": "execute_result"
    }
   ],
   "source": [
    "open System.Collections\n",
    "open System.Collections.Generic\n",
    "\n",
    "let myList = [\"HOME\"; \"PWD\"; \"LOGNAME\"]\n",
    "\n",
    "let env =\n",
    "  myList\n",
    "  |> Seq.map (fun envVar -> envVar, Environment.GetEnvironmentVariable envVar)\n",
    "  |> dict\n",
    "\n",
    "printfn \"%A\" env"
   ]
  },
  {
   "cell_type": "markdown",
   "metadata": {},
   "source": [
    "## Dictionary"
   ]
  },
  {
   "cell_type": "code",
   "execution_count": null,
   "metadata": {},
   "outputs": [],
   "source": []
  }
 ],
 "metadata": {
  "kernelspec": {
   "display_name": ".NET (F#)",
   "language": "F#",
   "name": ".net-fsharp"
  },
  "language_info": {
   "file_extension": ".fs",
   "mimetype": "text/x-fsharp",
   "name": "C#",
   "pygments_lexer": "fsharp",
   "version": "4.5"
  }
 },
 "nbformat": 4,
 "nbformat_minor": 4
}
