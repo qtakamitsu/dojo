{
 "cells": [
  {
   "cell_type": "markdown",
   "metadata": {},
   "source": [
    "## ファイル"
   ]
  },
  {
   "cell_type": "code",
   "execution_count": 37,
   "metadata": {},
   "outputs": [
    {
     "name": "stdout",
     "output_type": "stream",
     "text": [
      "file = seq\n",
      "  [\"/home/tk3/.bash_history\"; \"/home/tk3/.bash_logout\"; \"/home/tk3/.bashrc\";\n",
      "   \"/home/tk3/.clasprc.json\"; ...]\n",
      "file = /home/tk3/.bash_history\n",
      "dirName = tk3\n",
      "fileName = .bash_history\n"
     ]
    },
    {
     "data": {
      "text/html": [
       "<null>"
      ]
     },
     "execution_count": 37,
     "metadata": {},
     "output_type": "execute_result"
    }
   ],
   "source": [
    "// ファイルの一覧を取得する\n",
    "let files = System.IO.Directory.EnumerateFiles(\"/home/tk3\", \"*\", System.IO.SearchOption.TopDirectoryOnly)\n",
    "printfn \"file = %A\" files\n",
    "\n",
    "let file = Seq.head files\n",
    "printfn \"file = %s\" file\n",
    "\n",
    "// パスから親ディレクトリ名を取得する\n",
    "let dirName = System.IO.Directory.GetParent(file).Name\n",
    "printfn \"dirName = %s\" dirName\n",
    "\n",
    "// パスからファイル名を取得する\n",
    "let fileName = System.IO.Path.GetFileName(file)\n",
    "printfn \"fileName = %s\" fileName"
   ]
  },
  {
   "cell_type": "markdown",
   "metadata": {},
   "source": [
    "## プロセスを起動する"
   ]
  },
  {
   "cell_type": "code",
   "execution_count": 42,
   "metadata": {},
   "outputs": [
    {
     "name": "stdout",
     "output_type": "stream",
     "text": [
      "output: total 32\n",
      "-rw-rw-rw- 1 tk3 tk3 2780 Jan  2 20:12 01-fsharp-reference.ipynb\n",
      "-rw-rw-rw- 1 tk3 tk3 8828 Jan  2 20:12 02-fsharp-enum.ipynb\n",
      "-rw-rw-rw- 1 tk3 tk3 3154 Jan  2 20:12 03-fsharp-option.ipynb\n",
      "-rw-rw-rw- 1 tk3 tk3 1717 Jan  2 20:12 04-fsharp-class.ipynb\n",
      "-rw-rw-rw- 1 tk3 tk3 4118 Jan  2 22:38 Untitled.ipynb\n",
      "\n"
     ]
    },
    {
     "data": {
      "text/html": [
       "<null>"
      ]
     },
     "execution_count": 42,
     "metadata": {},
     "output_type": "execute_result"
    }
   ],
   "source": [
    "open System.Diagnostics\n",
    "\n",
    "let procInfo = new ProcessStartInfo()\n",
    "procInfo.FileName <- \"ls\"\n",
    "procInfo.Arguments <- \"-l\"\n",
    "procInfo.RedirectStandardOutput <- true\n",
    "\n",
    "using(Process.Start(procInfo)) ( fun proc ->\n",
    "    let output = proc.StandardOutput.ReadToEnd()\n",
    "    printfn \"output: %s\" output\n",
    ")\n"
   ]
  },
  {
   "cell_type": "code",
   "execution_count": 40,
   "metadata": {},
   "outputs": [
    {
     "name": "stdout",
     "output_type": "stream",
     "text": [
      "output: total 32\n",
      "-rw-rw-rw- 1 tk3 tk3 2780 Jan  2 20:12 01-fsharp-reference.ipynb\n",
      "-rw-rw-rw- 1 tk3 tk3 8828 Jan  2 20:12 02-fsharp-enum.ipynb\n",
      "-rw-rw-rw- 1 tk3 tk3 3154 Jan  2 20:12 03-fsharp-option.ipynb\n",
      "-rw-rw-rw- 1 tk3 tk3 1717 Jan  2 20:12 04-fsharp-class.ipynb\n",
      "-rw-rw-rw- 1 tk3 tk3 4118 Jan  2 22:38 Untitled.ipynb\n",
      "\n",
      "exitCode = 0\n"
     ]
    },
    {
     "data": {
      "text/html": [
       "<null>"
      ]
     },
     "execution_count": 40,
     "metadata": {},
     "output_type": "execute_result"
    }
   ],
   "source": [
    "open System.Diagnostics\n",
    "\n",
    "let procInfo = new ProcessStartInfo()\n",
    "procInfo.FileName <- \"ls\"\n",
    "procInfo.Arguments <- \"-l\"\n",
    "procInfo.RedirectStandardOutput <- true\n",
    "\n",
    "let proc = Process.Start(procInfo)\n",
    "proc.WaitForExit() \n",
    "\n",
    "let output = proc.StandardOutput.ReadToEnd()\n",
    "printfn \"output: %s\" output\n",
    "\n",
    "printfn \"exitCode = %d\" proc.ExitCode\n"
   ]
  },
  {
   "cell_type": "markdown",
   "metadata": {},
   "source": [
    "## システムの情報\n",
    "\n",
    "- [RuntimeInformation Class (System.Runtime.InteropServices) | Microsoft Docs](https://docs.microsoft.com/en-us/dotnet/api/system.runtime.interopservices.runtimeinformation?view=netcore-3.0)\n",
    "- [OSPlatform Struct (System.Runtime.InteropServices) | Microsoft Docs](https://docs.microsoft.com/en-us/dotnet/api/system.runtime.interopservices.osplatform?view=netcore-3.0)\n",
    "\n",
    "\n",
    "- [Architecture Enum (System.Runtime.InteropServices) | Microsoft Docs](https://docs.microsoft.com/en-us/dotnet/api/system.runtime.interopservices.architecture?view=netcore-3.0)\n"
   ]
  },
  {
   "cell_type": "code",
   "execution_count": 54,
   "metadata": {},
   "outputs": [
    {
     "name": "stdout",
     "output_type": "stream",
     "text": [
      ".NET Core 3.0.0\n",
      "X64\n",
      "Linux 4.4.0-17763-Microsoft #864-Microsoft Thu Nov 07 15:22:00 PST 2019\n",
      "X64\n",
      "true\n"
     ]
    },
    {
     "data": {
      "text/html": [
       "<null>"
      ]
     },
     "execution_count": 54,
     "metadata": {},
     "output_type": "execute_result"
    }
   ],
   "source": [
    "open System.Runtime.InteropServices\n",
    "\n",
    "printfn \"%s\" RuntimeInformation.FrameworkDescription\n",
    "printfn \"%A\" RuntimeInformation.OSArchitecture\n",
    "printfn \"%s\" RuntimeInformation.OSDescription\n",
    "printfn \"%A\" RuntimeInformation.ProcessArchitecture\n",
    "\n",
    "printfn \"%b\" (RuntimeInformation.IsOSPlatform(OSPlatform.Linux))"
   ]
  },
  {
   "cell_type": "markdown",
   "metadata": {},
   "source": [
    "## 環境変数"
   ]
  },
  {
   "cell_type": "code",
   "execution_count": 56,
   "metadata": {},
   "outputs": [
    {
     "name": "stdout",
     "output_type": "stream",
     "text": [
      "Home = /home/tk3\n"
     ]
    },
    {
     "data": {
      "text/html": [
       "<null>"
      ]
     },
     "execution_count": 56,
     "metadata": {},
     "output_type": "execute_result"
    }
   ],
   "source": [
    "let home = Environment.GetEnvironmentVariable(\"HOME\")\n",
    "printfn \"Home = %s\" home"
   ]
  },
  {
   "cell_type": "code",
   "execution_count": null,
   "metadata": {},
   "outputs": [],
   "source": [
    "open System.Collections\n",
    "open System.Collections.Generic\n",
    "\n",
    "let envVars = \n",
    "  System.Environment.GetEnvironmentVariables()\n",
    "  |> Seq.cast<System.Collections.DictionaryEntry>\n",
    "  |> Seq.map (fun d -> d.Key :?> string, d.Value :?> string)\n",
    "  |> dict\n",
    "\n",
    "for envVar in envVars do\n",
    "    printfn \"%A\" envVar"
   ]
  },
  {
   "cell_type": "code",
   "execution_count": 8,
   "metadata": {},
   "outputs": [
    {
     "name": "stdout",
     "output_type": "stream",
     "text": [
      "seq\n",
      "  [[HOME, /home/tk3]; [PWD, /home/tk3/devel/g/dojo/jupyter-lab]; [LOGNAME, tk3]]\n"
     ]
    },
    {
     "data": {
      "text/html": [
       "<null>"
      ]
     },
     "execution_count": 8,
     "metadata": {},
     "output_type": "execute_result"
    }
   ],
   "source": [
    "open System.Collections\n",
    "open System.Collections.Generic\n",
    "\n",
    "let myList = [\"HOME\"; \"PWD\"; \"LOGNAME\"]\n",
    "\n",
    "let env =\n",
    "  myList\n",
    "  |> Seq.map (fun envVar -> envVar, Environment.GetEnvironmentVariable envVar)\n",
    "  |> dict\n",
    "\n",
    "printfn \"%A\" env"
   ]
  }
 ],
 "metadata": {
  "kernelspec": {
   "display_name": ".NET (F#)",
   "language": "F#",
   "name": ".net-fsharp"
  },
  "language_info": {
   "file_extension": ".fs",
   "mimetype": "text/x-fsharp",
   "name": "C#",
   "pygments_lexer": "fsharp",
   "version": "4.5"
  }
 },
 "nbformat": 4,
 "nbformat_minor": 4
}
